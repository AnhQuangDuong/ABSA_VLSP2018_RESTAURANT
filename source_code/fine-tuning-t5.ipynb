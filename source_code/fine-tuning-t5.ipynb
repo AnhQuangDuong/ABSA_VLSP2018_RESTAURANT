{
 "cells": [
  {
   "cell_type": "code",
   "execution_count": 1,
   "metadata": {
    "execution": {
     "iopub.execute_input": "2025-05-23T07:04:37.016100Z",
     "iopub.status.busy": "2025-05-23T07:04:37.015607Z",
     "iopub.status.idle": "2025-05-23T07:05:44.051303Z",
     "shell.execute_reply": "2025-05-23T07:05:44.050403Z",
     "shell.execute_reply.started": "2025-05-23T07:04:37.016080Z"
    },
    "trusted": true
   },
   "outputs": [
    {
     "name": "stdout",
     "output_type": "stream",
     "text": [
      "\u001b[2K   \u001b[90m━━━━━━━━━━━━━━━━━━━━━━━━━━━━━━━━━━━━━━━━\u001b[0m \u001b[32m183.9/183.9 kB\u001b[0m \u001b[31m4.2 MB/s\u001b[0m eta \u001b[36m0:00:00\u001b[0ma \u001b[36m0:00:01\u001b[0m\n",
      "\u001b[2K   \u001b[90m━━━━━━━━━━━━━━━━━━━━━━━━━━━━━━━━━━━━━━━━\u001b[0m \u001b[32m363.4/363.4 MB\u001b[0m \u001b[31m4.7 MB/s\u001b[0m eta \u001b[36m0:00:00\u001b[0m0:00:01\u001b[0m00:01\u001b[0m\n",
      "\u001b[2K   \u001b[90m━━━━━━━━━━━━━━━━━━━━━━━━━━━━━━━━━━━━━━━━\u001b[0m \u001b[32m664.8/664.8 MB\u001b[0m \u001b[31m2.6 MB/s\u001b[0m eta \u001b[36m0:00:00\u001b[0m0:00:01\u001b[0m00:01\u001b[0m\n",
      "\u001b[2K   \u001b[90m━━━━━━━━━━━━━━━━━━━━━━━━━━━━━━━━━━━━━━━━\u001b[0m \u001b[32m211.5/211.5 MB\u001b[0m \u001b[31m7.6 MB/s\u001b[0m eta \u001b[36m0:00:00\u001b[0m0:00:01\u001b[0m00:01\u001b[0m\n",
      "\u001b[2K   \u001b[90m━━━━━━━━━━━━━━━━━━━━━━━━━━━━━━━━━━━━━━━━\u001b[0m \u001b[32m56.3/56.3 MB\u001b[0m \u001b[31m16.5 MB/s\u001b[0m eta \u001b[36m0:00:00\u001b[0m:00:01\u001b[0m00:01\u001b[0m\n",
      "\u001b[2K   \u001b[90m━━━━━━━━━━━━━━━━━━━━━━━━━━━━━━━━━━━━━━━━\u001b[0m \u001b[32m127.9/127.9 MB\u001b[0m \u001b[31m13.4 MB/s\u001b[0m eta \u001b[36m0:00:00\u001b[0m:00:01\u001b[0m00:01\u001b[0m\n",
      "\u001b[2K   \u001b[90m━━━━━━━━━━━━━━━━━━━━━━━━━━━━━━━━━━━━━━━━\u001b[0m \u001b[32m207.5/207.5 MB\u001b[0m \u001b[31m8.1 MB/s\u001b[0m eta \u001b[36m0:00:00\u001b[0m0:00:01\u001b[0m00:01\u001b[0m\n",
      "\u001b[2K   \u001b[90m━━━━━━━━━━━━━━━━━━━━━━━━━━━━━━━━━━━━━━━━\u001b[0m \u001b[32m21.1/21.1 MB\u001b[0m \u001b[31m81.0 MB/s\u001b[0m eta \u001b[36m0:00:00\u001b[0m:00:01\u001b[0m00:01\u001b[0m\n",
      "\u001b[?25h\u001b[31mERROR: pip's dependency resolver does not currently take into account all the packages that are installed. This behaviour is the source of the following dependency conflicts.\n",
      "gcsfs 2024.10.0 requires fsspec==2024.10.0, but you have fsspec 2024.12.0 which is incompatible.\n",
      "bigframes 1.36.0 requires rich<14,>=12.4.4, but you have rich 14.0.0 which is incompatible.\n",
      "pylibcugraph-cu12 24.12.0 requires pylibraft-cu12==24.12.*, but you have pylibraft-cu12 25.2.0 which is incompatible.\n",
      "pylibcugraph-cu12 24.12.0 requires rmm-cu12==24.12.*, but you have rmm-cu12 25.2.0 which is incompatible.\u001b[0m\u001b[31m\n",
      "\u001b[0m"
     ]
    }
   ],
   "source": [
    "!pip -q install transformers datasets accelerate"
   ]
  },
  {
   "cell_type": "code",
   "execution_count": 2,
   "metadata": {
    "execution": {
     "iopub.execute_input": "2025-05-23T07:05:44.053261Z",
     "iopub.status.busy": "2025-05-23T07:05:44.052954Z",
     "iopub.status.idle": "2025-05-23T07:05:44.057346Z",
     "shell.execute_reply": "2025-05-23T07:05:44.056665Z",
     "shell.execute_reply.started": "2025-05-23T07:05:44.053240Z"
    },
    "trusted": true
   },
   "outputs": [],
   "source": [
    "TRAIN_PATH = \"/kaggle/input/dataset-with-vnese-output/train_df_with_VNESE_output.csv\"\n",
    "VAL_PATH = \"/kaggle/input/dataset-with-vnese-output/val_df_with_VNESE_output.csv\"\n",
    "TEST_PATH = \"/kaggle/input/dataset-with-vnese-output/test_df_with_VNESE_output.csv\""
   ]
  },
  {
   "cell_type": "code",
   "execution_count": 3,
   "metadata": {
    "execution": {
     "iopub.execute_input": "2025-05-23T07:05:44.058215Z",
     "iopub.status.busy": "2025-05-23T07:05:44.057964Z",
     "iopub.status.idle": "2025-05-23T07:05:46.902165Z",
     "shell.execute_reply": "2025-05-23T07:05:46.901649Z",
     "shell.execute_reply.started": "2025-05-23T07:05:44.058189Z"
    },
    "trusted": true
   },
   "outputs": [
    {
     "data": {
      "application/vnd.jupyter.widget-view+json": {
       "model_id": "da0a41e968f74f5d83c8e73b31bf8134",
       "version_major": 2,
       "version_minor": 0
      },
      "text/plain": [
       "Generating train split: 0 examples [00:00, ? examples/s]"
      ]
     },
     "metadata": {},
     "output_type": "display_data"
    },
    {
     "data": {
      "application/vnd.jupyter.widget-view+json": {
       "model_id": "6f89e789b8e2443bb36f81ca69a6a073",
       "version_major": 2,
       "version_minor": 0
      },
      "text/plain": [
       "Generating val split: 0 examples [00:00, ? examples/s]"
      ]
     },
     "metadata": {},
     "output_type": "display_data"
    },
    {
     "data": {
      "application/vnd.jupyter.widget-view+json": {
       "model_id": "09f7995608d545f896b1d0cdf91836ad",
       "version_major": 2,
       "version_minor": 0
      },
      "text/plain": [
       "Generating test split: 0 examples [00:00, ? examples/s]"
      ]
     },
     "metadata": {},
     "output_type": "display_data"
    }
   ],
   "source": [
    "from datasets import load_dataset\n",
    "\n",
    "dataset = load_dataset(\"csv\", data_files={\"train\": TRAIN_PATH, \"val\": VAL_PATH, \"test\": TEST_PATH})"
   ]
  },
  {
   "cell_type": "code",
   "execution_count": 4,
   "metadata": {
    "execution": {
     "iopub.execute_input": "2025-05-23T07:05:46.903346Z",
     "iopub.status.busy": "2025-05-23T07:05:46.902940Z",
     "iopub.status.idle": "2025-05-23T07:05:46.908769Z",
     "shell.execute_reply": "2025-05-23T07:05:46.908007Z",
     "shell.execute_reply.started": "2025-05-23T07:05:46.903317Z"
    },
    "trusted": true
   },
   "outputs": [
    {
     "data": {
      "text/plain": [
       "DatasetDict({\n",
       "    train: Dataset({\n",
       "        features: ['clean_comment', 'aspect', 'sentiments', 'VNESE_text_output'],\n",
       "        num_rows: 2961\n",
       "    })\n",
       "    val: Dataset({\n",
       "        features: ['clean_comment', 'aspect', 'sentiments', 'VNESE_text_output'],\n",
       "        num_rows: 1290\n",
       "    })\n",
       "    test: Dataset({\n",
       "        features: ['clean_comment', 'aspect', 'sentiments', 'VNESE_text_output'],\n",
       "        num_rows: 500\n",
       "    })\n",
       "})"
      ]
     },
     "execution_count": 4,
     "metadata": {},
     "output_type": "execute_result"
    }
   ],
   "source": [
    "dataset"
   ]
  },
  {
   "cell_type": "markdown",
   "metadata": {},
   "source": [
    "Thêm phần instruction cho các câu review\n"
   ]
  },
  {
   "cell_type": "code",
   "execution_count": 5,
   "metadata": {
    "execution": {
     "iopub.execute_input": "2025-05-23T07:05:46.911138Z",
     "iopub.status.busy": "2025-05-23T07:05:46.910920Z",
     "iopub.status.idle": "2025-05-23T07:06:01.544812Z",
     "shell.execute_reply": "2025-05-23T07:06:01.544232Z",
     "shell.execute_reply.started": "2025-05-23T07:05:46.911121Z"
    },
    "trusted": true
   },
   "outputs": [
    {
     "data": {
      "application/vnd.jupyter.widget-view+json": {
       "model_id": "66e21b91f155464cbf064cd00fcc7cde",
       "version_major": 2,
       "version_minor": 0
      },
      "text/plain": [
       "tokenizer_config.json:   0%|          | 0.00/2.20k [00:00<?, ?B/s]"
      ]
     },
     "metadata": {},
     "output_type": "display_data"
    },
    {
     "data": {
      "application/vnd.jupyter.widget-view+json": {
       "model_id": "09b6b12b70da41ce878cf719743ecd3c",
       "version_major": 2,
       "version_minor": 0
      },
      "text/plain": [
       "spiece.model:   0%|          | 0.00/820k [00:00<?, ?B/s]"
      ]
     },
     "metadata": {},
     "output_type": "display_data"
    },
    {
     "data": {
      "application/vnd.jupyter.widget-view+json": {
       "model_id": "715349ee3e0a441e8817ff19d7b9c247",
       "version_major": 2,
       "version_minor": 0
      },
      "text/plain": [
       "special_tokens_map.json:   0%|          | 0.00/2.12k [00:00<?, ?B/s]"
      ]
     },
     "metadata": {},
     "output_type": "display_data"
    },
    {
     "data": {
      "application/vnd.jupyter.widget-view+json": {
       "model_id": "0dc337a7a2e2434cb70d3cb23b9168b5",
       "version_major": 2,
       "version_minor": 0
      },
      "text/plain": [
       "tokenizer.json:   0%|          | 0.00/2.40M [00:00<?, ?B/s]"
      ]
     },
     "metadata": {},
     "output_type": "display_data"
    },
    {
     "name": "stderr",
     "output_type": "stream",
     "text": [
      "You are using the default legacy behaviour of the <class 'transformers.models.t5.tokenization_t5.T5Tokenizer'>. This is expected, and simply means that the `legacy` (previous) behavior will be used so nothing changes for you. If you want to use the new behaviour, set `legacy=False`. This should only be set if you understand what it means, and thoroughly read the reason why this was added as explained in https://github.com/huggingface/transformers/pull/24565\n"
     ]
    },
    {
     "data": {
      "application/vnd.jupyter.widget-view+json": {
       "model_id": "3de1535e312b4b6ba99a8362caa6d8e2",
       "version_major": 2,
       "version_minor": 0
      },
      "text/plain": [
       "Map:   0%|          | 0/2961 [00:00<?, ? examples/s]"
      ]
     },
     "metadata": {},
     "output_type": "display_data"
    },
    {
     "data": {
      "application/vnd.jupyter.widget-view+json": {
       "model_id": "b81dff7238d94382be4b5fbfec5eba1a",
       "version_major": 2,
       "version_minor": 0
      },
      "text/plain": [
       "Map:   0%|          | 0/1290 [00:00<?, ? examples/s]"
      ]
     },
     "metadata": {},
     "output_type": "display_data"
    },
    {
     "data": {
      "application/vnd.jupyter.widget-view+json": {
       "model_id": "10362d00025c42a8a2266a3e905486e6",
       "version_major": 2,
       "version_minor": 0
      },
      "text/plain": [
       "Map:   0%|          | 0/500 [00:00<?, ? examples/s]"
      ]
     },
     "metadata": {},
     "output_type": "display_data"
    }
   ],
   "source": [
    "from transformers import T5Tokenizer\n",
    "\n",
    "# Load T5 tokenizer\n",
    "tokenizer = T5Tokenizer.from_pretrained(\"VietAI/vit5-base\")\n",
    "\n",
    "# Tokenize the inputs and targets\n",
    "def preprocess(example):\n",
    "    model_input = tokenizer(\n",
    "        example['clean_comment'], \n",
    "        padding=\"max_length\", \n",
    "        truncation=True, \n",
    "        max_length=256\n",
    "    )\n",
    "    labels = tokenizer(\n",
    "        text_target=example['VNESE_text_output'], \n",
    "        padding=\"max_length\", \n",
    "        truncation=True, \n",
    "        max_length=128\n",
    "    )\n",
    "    model_input['labels'] = labels['input_ids']\n",
    "    return model_input\n",
    "\n",
    "## phan nay co them instruction nhung ket qua kem hon\n",
    "# def preprocess(batch):\n",
    "#     input_texts = [\n",
    "#         f\"Hãy rút trích các cặp thể loại và trạng thái trong bình luận sau: {c}\"\n",
    "#         for c in batch[\"clean_comment\"]\n",
    "#     ]\n",
    "#     labels_texts = batch[\"VNESE_text_output\"]\n",
    "\n",
    "#     model_inputs = tokenizer(\n",
    "#         input_texts,\n",
    "#         padding=\"max_length\",\n",
    "#         truncation=True,\n",
    "#         max_length=256,\n",
    "#     )\n",
    "#     labels = tokenizer(\n",
    "#         labels_texts,\n",
    "#         padding=\"max_length\",\n",
    "#         truncation=True,\n",
    "#         max_length=128,\n",
    "#     )\n",
    "\n",
    "#     model_inputs[\"labels\"] = labels[\"input_ids\"]\n",
    "#     return model_inputs\n",
    "\n",
    "tokenized_dataset = dataset.map(\n",
    "    preprocess, \n",
    "    batched=True,\n",
    ")\n",
    "tokenized_dataset.set_format(\"torch\", columns=[\"input_ids\", \"attention_mask\", \"labels\"])"
   ]
  },
  {
   "cell_type": "code",
   "execution_count": 6,
   "metadata": {
    "execution": {
     "iopub.execute_input": "2025-05-23T07:06:01.545806Z",
     "iopub.status.busy": "2025-05-23T07:06:01.545555Z",
     "iopub.status.idle": "2025-05-23T07:06:25.157600Z",
     "shell.execute_reply": "2025-05-23T07:06:25.156534Z",
     "shell.execute_reply.started": "2025-05-23T07:06:01.545788Z"
    },
    "trusted": true
   },
   "outputs": [
    {
     "name": "stderr",
     "output_type": "stream",
     "text": [
      "2025-05-23 07:06:08.255245: E external/local_xla/xla/stream_executor/cuda/cuda_fft.cc:477] Unable to register cuFFT factory: Attempting to register factory for plugin cuFFT when one has already been registered\n",
      "WARNING: All log messages before absl::InitializeLog() is called are written to STDERR\n",
      "E0000 00:00:1747983968.446768      31 cuda_dnn.cc:8310] Unable to register cuDNN factory: Attempting to register factory for plugin cuDNN when one has already been registered\n",
      "E0000 00:00:1747983968.500873      31 cuda_blas.cc:1418] Unable to register cuBLAS factory: Attempting to register factory for plugin cuBLAS when one has already been registered\n"
     ]
    },
    {
     "data": {
      "application/vnd.jupyter.widget-view+json": {
       "model_id": "e6e8c5b77f1741c3b12bb6af25f3311e",
       "version_major": 2,
       "version_minor": 0
      },
      "text/plain": [
       "config.json:   0%|          | 0.00/702 [00:00<?, ?B/s]"
      ]
     },
     "metadata": {},
     "output_type": "display_data"
    },
    {
     "data": {
      "application/vnd.jupyter.widget-view+json": {
       "model_id": "8e224d3a7e3043bc8c6f715b89cf8442",
       "version_major": 2,
       "version_minor": 0
      },
      "text/plain": [
       "pytorch_model.bin:   0%|          | 0.00/904M [00:00<?, ?B/s]"
      ]
     },
     "metadata": {},
     "output_type": "display_data"
    },
    {
     "data": {
      "application/vnd.jupyter.widget-view+json": {
       "model_id": "9330cd0bf2714f64b19e42617bce2d6c",
       "version_major": 2,
       "version_minor": 0
      },
      "text/plain": [
       "model.safetensors:   0%|          | 0.00/904M [00:00<?, ?B/s]"
      ]
     },
     "metadata": {},
     "output_type": "display_data"
    }
   ],
   "source": [
    "from transformers import T5ForConditionalGeneration\n",
    "\n",
    "model = T5ForConditionalGeneration.from_pretrained(\"VietAI/vit5-base\")"
   ]
  },
  {
   "cell_type": "code",
   "execution_count": 7,
   "metadata": {
    "execution": {
     "iopub.execute_input": "2025-05-23T07:06:25.159694Z",
     "iopub.status.busy": "2025-05-23T07:06:25.158874Z",
     "iopub.status.idle": "2025-05-23T07:27:50.940410Z",
     "shell.execute_reply": "2025-05-23T07:27:50.939837Z",
     "shell.execute_reply.started": "2025-05-23T07:06:25.159660Z"
    },
    "trusted": true
   },
   "outputs": [
    {
     "name": "stderr",
     "output_type": "stream",
     "text": [
      "/usr/local/lib/python3.11/dist-packages/transformers/data/data_collator.py:741: UserWarning: Creating a tensor from a list of numpy.ndarrays is extremely slow. Please consider converting the list to a single numpy.ndarray with numpy.array() before converting to a tensor. (Triggered internally at ../torch/csrc/utils/tensor_new.cpp:278.)\n",
      "  batch[\"labels\"] = torch.tensor(batch[\"labels\"], dtype=torch.int64)\n",
      "Passing a tuple of `past_key_values` is deprecated and will be removed in Transformers v4.48.0. You should pass an instance of `EncoderDecoderCache` instead, e.g. `past_key_values=EncoderDecoderCache.from_legacy_cache(past_key_values)`.\n"
     ]
    },
    {
     "data": {
      "text/html": [
       "\n",
       "    <div>\n",
       "      \n",
       "      <progress value='2500' max='5565' style='width:300px; height:20px; vertical-align: middle;'></progress>\n",
       "      [2500/5565 21:21 < 26:11, 1.95 it/s, Epoch 6/15]\n",
       "    </div>\n",
       "    <table border=\"1\" class=\"dataframe\">\n",
       "  <thead>\n",
       " <tr style=\"text-align: left;\">\n",
       "      <th>Step</th>\n",
       "      <th>Training Loss</th>\n",
       "      <th>Validation Loss</th>\n",
       "    </tr>\n",
       "  </thead>\n",
       "  <tbody>\n",
       "    <tr>\n",
       "      <td>500</td>\n",
       "      <td>0.620600</td>\n",
       "      <td>0.040023</td>\n",
       "    </tr>\n",
       "    <tr>\n",
       "      <td>1000</td>\n",
       "      <td>0.043000</td>\n",
       "      <td>0.035598</td>\n",
       "    </tr>\n",
       "    <tr>\n",
       "      <td>1500</td>\n",
       "      <td>0.031800</td>\n",
       "      <td>0.036571</td>\n",
       "    </tr>\n",
       "    <tr>\n",
       "      <td>2000</td>\n",
       "      <td>0.022000</td>\n",
       "      <td>0.039465</td>\n",
       "    </tr>\n",
       "    <tr>\n",
       "      <td>2500</td>\n",
       "      <td>0.017000</td>\n",
       "      <td>0.042989</td>\n",
       "    </tr>\n",
       "  </tbody>\n",
       "</table><p>"
      ],
      "text/plain": [
       "<IPython.core.display.HTML object>"
      ]
     },
     "metadata": {},
     "output_type": "display_data"
    },
    {
     "name": "stderr",
     "output_type": "stream",
     "text": [
      "There were missing keys in the checkpoint model loaded: ['encoder.embed_tokens.weight', 'decoder.embed_tokens.weight', 'lm_head.weight'].\n"
     ]
    },
    {
     "data": {
      "text/plain": [
       "TrainOutput(global_step=2500, training_loss=0.14688394584655762, metrics={'train_runtime': 1282.1607, 'train_samples_per_second': 34.641, 'train_steps_per_second': 4.34, 'total_flos': 6076790789898240.0, 'train_loss': 0.14688394584655762, 'epoch': 6.738544474393531})"
      ]
     },
     "execution_count": 7,
     "metadata": {},
     "output_type": "execute_result"
    }
   ],
   "source": [
    "from transformers import TrainingArguments, Trainer, EarlyStoppingCallback\n",
    "\n",
    "# training_args = TrainingArguments(\n",
    "#     output_dir=\"./t5-finetuned\",\n",
    "#     run_name=\"t5-finetune-v1\",\n",
    "#     eval_strategy=\"steps\",\n",
    "#     eval_steps=500,\n",
    "#     save_steps=1000,\n",
    "#     per_device_train_batch_size=4,\n",
    "#     per_device_eval_batch_size=4,\n",
    "#     num_train_epochs=10,\n",
    "#     load_best_model_at_end=True,\n",
    "#     metric_for_best_model=\"eval_loss\",\n",
    "#     greater_is_better=False,\n",
    "#     report_to=\"none\",  \n",
    "# )\n",
    "\n",
    "training_args = TrainingArguments(\n",
    "    output_dir=\"./t5-finetuned\",\n",
    "    run_name=\"t5-finetune-v1\",\n",
    "    eval_strategy=\"steps\",\n",
    "    eval_steps=500,  # more frequent evaluation\n",
    "    save_steps=500,\n",
    "    per_device_train_batch_size=8,  # larger batch size\n",
    "    per_device_eval_batch_size=8,\n",
    "    lr_scheduler_type=\"cosine\",\n",
    "    num_train_epochs=15,            # more epochs\n",
    "    learning_rate=2e-5,             # lower learning rate\n",
    "    fp16=True,                      # mixed precision\n",
    "    weight_decay=0.01,              # regularization\n",
    "    load_best_model_at_end=True,\n",
    "    metric_for_best_model=\"eval_loss\",\n",
    "    greater_is_better=False,\n",
    "    report_to=\"none\",\n",
    ")\n",
    "\n",
    "\n",
    "from transformers import DataCollatorForSeq2Seq\n",
    "\n",
    "data_collator = DataCollatorForSeq2Seq(tokenizer, model=model)\n",
    "\n",
    "trainer = Trainer(\n",
    "    model=model,\n",
    "    args=training_args,\n",
    "    train_dataset=tokenized_dataset['train'],\n",
    "    eval_dataset=tokenized_dataset['val'],\n",
    "    data_collator=data_collator,\n",
    "    callbacks=[EarlyStoppingCallback(early_stopping_patience=3)],\n",
    ")\n",
    "\n",
    "trainer.train()"
   ]
  },
  {
   "cell_type": "code",
   "execution_count": 8,
   "metadata": {
    "execution": {
     "iopub.execute_input": "2025-05-23T07:27:50.941504Z",
     "iopub.status.busy": "2025-05-23T07:27:50.941220Z",
     "iopub.status.idle": "2025-05-23T07:27:51.579004Z",
     "shell.execute_reply": "2025-05-23T07:27:51.578178Z",
     "shell.execute_reply.started": "2025-05-23T07:27:50.941471Z"
    },
    "trusted": true
   },
   "outputs": [
    {
     "name": "stdout",
     "output_type": "stream",
     "text": [
      "chất lượng đồ ăn tốt và không gian tốt và phục vụ tốt và giá tiền món ăn tạm\n"
     ]
    }
   ],
   "source": [
    "import torch\n",
    "\n",
    "device = \"cuda\" if torch.cuda.is_available() else \"cpu\"\n",
    "model.to(device)\n",
    "\n",
    "comment = \"\"\"\n",
    "Nhà hàng này món ăn cực kỳ ngon và lạ nữa. Không gian đẹp, nhẹ nhàng và tinh tế. Phục vụ cũng rất ok, giá thì hơi cao nhưng so với mặt bằng Q. 1 thì giá như thế là phù hợp rồi.  chả cá chiên thuyền buồm 199k.  Xôi đùi gà quay 139k.  Black Currant 50k.  Coronarita 199k.  Xôi ghẹ nè...\n",
    "\"\"\"\n",
    "\n",
    "input_text = f\"Hãy rút trích các cặp thể loại và trạng thái trong bình luận sau: {comment}\"\n",
    "input_ids = tokenizer.encode(input_text,return_tensors=\"pt\").to(device)\n",
    "\n",
    "output = model.generate(input_ids, max_length=512)\n",
    "print(tokenizer.decode(output[0], skip_special_tokens=True))"
   ]
  },
  {
   "cell_type": "markdown",
   "metadata": {},
   "source": [
    "# Predict on test dataset\n"
   ]
  },
  {
   "cell_type": "code",
   "execution_count": 9,
   "metadata": {
    "execution": {
     "iopub.execute_input": "2025-05-23T07:27:51.580388Z",
     "iopub.status.busy": "2025-05-23T07:27:51.580042Z",
     "iopub.status.idle": "2025-05-23T07:29:25.396786Z",
     "shell.execute_reply": "2025-05-23T07:29:25.395978Z",
     "shell.execute_reply.started": "2025-05-23T07:27:51.580359Z"
    },
    "trusted": true
   },
   "outputs": [
    {
     "name": "stderr",
     "output_type": "stream",
     "text": [
      "/usr/local/lib/python3.11/dist-packages/transformers/generation/configuration_utils.py:631: UserWarning: `do_sample` is set to `False`. However, `temperature` is set to `0.7` -- this flag is only used in sample-based generation modes. You should set `do_sample=True` or unset `temperature`.\n",
      "  warnings.warn(\n"
     ]
    }
   ],
   "source": [
    "from torch.utils.data import DataLoader\n",
    "\n",
    "test_dataloader = DataLoader(tokenized_dataset['test'], batch_size=8)\n",
    "\n",
    "\n",
    "predictions = []\n",
    "\n",
    "for batch in test_dataloader:\n",
    "    input_ids = batch['input_ids'].to(device)\n",
    "    attention_mask = batch['attention_mask'].to(device)\n",
    "    \n",
    "    # with torch.no_grad():\n",
    "    #     generated_ids = model.generate(\n",
    "    #         input_ids=input_ids,\n",
    "    #         attention_mask=attention_mask,\n",
    "    #         max_length=128,        # same as your target length\n",
    "    #         num_beams=4,           # optional: beam search for better results\n",
    "    #         early_stopping=True\n",
    "    #     )\n",
    "\n",
    "    with torch.no_grad():\n",
    "        generated_ids = model.generate(\n",
    "            input_ids=input_ids,\n",
    "            attention_mask=attention_mask,\n",
    "            max_length=128,\n",
    "            num_beams=6,\n",
    "            top_k=50,\n",
    "            temperature=0.7,\n",
    "            early_stopping=True\n",
    "        )\n",
    "    \n",
    "    preds = tokenizer.batch_decode(generated_ids, skip_special_tokens=True, clean_up_tokenization_spaces=True)\n",
    "    predictions.extend(preds)"
   ]
  },
  {
   "cell_type": "code",
   "execution_count": 10,
   "metadata": {
    "execution": {
     "iopub.execute_input": "2025-05-23T07:29:25.397911Z",
     "iopub.status.busy": "2025-05-23T07:29:25.397636Z",
     "iopub.status.idle": "2025-05-23T07:29:25.404098Z",
     "shell.execute_reply": "2025-05-23T07:29:25.403533Z",
     "shell.execute_reply.started": "2025-05-23T07:29:25.397885Z"
    },
    "trusted": true
   },
   "outputs": [
    {
     "name": "stdout",
     "output_type": "stream",
     "text": [
      "[1, 0, 0, 0, 3, 1, 1, 0, 0, 0, 0, 0]\n"
     ]
    }
   ],
   "source": [
    "# Convert output VNESE back to format that can be evaluated\n",
    "def convert_output_to_list(output_text, aspect_category_list):\n",
    "    # Create a dictionary to map sentiment words to numbers\n",
    "    sentiment_map = {\n",
    "        'tốt': 1,\n",
    "        'tệ': 2,\n",
    "        'tạm': 3\n",
    "    }\n",
    "    \n",
    "    # Initialize the result list with 0 (not mentioned)\n",
    "    result = [0] * len(aspect_category_list)\n",
    "    \n",
    "    # Split the output by ' và ' to get each aspect-sentiment pair\n",
    "    pairs = output_text.split(' và ')\n",
    "    \n",
    "    for pair in pairs:\n",
    "        # Find the matching sentiment\n",
    "        for sentiment_word, sentiment_value in sentiment_map.items():\n",
    "            if sentiment_word in pair:\n",
    "                aspect_name = pair.replace(' ' + sentiment_word, '').strip()\n",
    "                if aspect_name in aspect_category_list:\n",
    "                    index = aspect_category_list.index(aspect_name)\n",
    "                    result[index] = sentiment_value\n",
    "                break  # No need to check other sentiments for this pair\n",
    "    \n",
    "    return result\n",
    "\n",
    "aspect_category_list = [\n",
    "    'không gian', 'giá tiền đồ uống', 'chất lượng đồ uống', 'lựa chọn đồ uống',\n",
    "    'giá tiền món ăn', 'chất lượng đồ ăn', 'lựa chọn đồ ăn', 'địa chỉ', 'nhà hàng nói chung', \n",
    "    'vấn đề khác', 'giá cả nhà hàng', 'phục vụ'\n",
    "]\n",
    "\n",
    "output_text = \"chất lượng đồ ăn tốt và lựa chọn đồ ăn tốt và không gian tốt và giá tiền món ăn tạm\"\n",
    "result = convert_output_to_list(output_text, aspect_category_list)\n",
    "print(result)\n"
   ]
  },
  {
   "cell_type": "code",
   "execution_count": 11,
   "metadata": {
    "execution": {
     "iopub.execute_input": "2025-05-23T07:29:25.405092Z",
     "iopub.status.busy": "2025-05-23T07:29:25.404855Z",
     "iopub.status.idle": "2025-05-23T07:29:25.429646Z",
     "shell.execute_reply": "2025-05-23T07:29:25.428899Z",
     "shell.execute_reply.started": "2025-05-23T07:29:25.405069Z"
    },
    "trusted": true
   },
   "outputs": [],
   "source": [
    "import numpy as np\n",
    "\n",
    "y_pred = []\n",
    "for pred in predictions:\n",
    "    y_pred.append(convert_output_to_list(pred,aspect_category_list))\n",
    "\n",
    "# convert ground-truth y_test\n",
    "\n",
    "y_test_raw_text = dataset['test']['VNESE_text_output']\n",
    "y_test = []\n",
    "for raw in y_test_raw_text:\n",
    "    y_test.append(convert_output_to_list(raw,aspect_category_list))\n",
    "\n",
    "y_pred = np.array(y_pred)\n",
    "y_test = np.array(y_test)"
   ]
  },
  {
   "cell_type": "markdown",
   "metadata": {},
   "source": [
    "# Evaluation Scikit-learn\n"
   ]
  },
  {
   "cell_type": "code",
   "execution_count": 12,
   "metadata": {
    "execution": {
     "iopub.execute_input": "2025-05-23T07:29:25.430714Z",
     "iopub.status.busy": "2025-05-23T07:29:25.430490Z",
     "iopub.status.idle": "2025-05-23T07:29:25.447067Z",
     "shell.execute_reply": "2025-05-23T07:29:25.446432Z",
     "shell.execute_reply.started": "2025-05-23T07:29:25.430692Z"
    },
    "jupyter": {
     "source_hidden": true
    },
    "trusted": true
   },
   "outputs": [],
   "source": [
    "# Evaluation\n",
    "import sys\n",
    "import pandas as pd\n",
    "from tqdm import tqdm\n",
    "from IPython.display import display_html\n",
    "from sklearn.metrics import classification_report\n",
    "import numpy as np\n",
    "\n",
    "class PolarityMapping:\n",
    "    INDEX_TO_POLARITY = { 0: None, 1: 'positive', 2: 'negative', 3: 'neutral' }\n",
    "    # INDEX_TO_ONEHOT = { i: [1 if i == j else 0 for j in INDEX_TO_POLARITY] for i in INDEX_TO_POLARITY } \n",
    "    # POLARITY_TO_INDEX = { polarity: index for index, polarity in INDEX_TO_POLARITY.items() }\n",
    "    INDEX_TO_ONEHOT = { 0: [1, 0, 0, 0], 1: [0, 1, 0, 0], 2: [0, 0, 1, 0], 3: [0, 0, 0, 1] }\n",
    "    POLARITY_TO_INDEX = { None: 0, 'positive': 1, 'negative': 2, 'neutral': 3 }\n",
    "\n",
    "sys.path.append('..')\n",
    "\n",
    "\n",
    "class VLSP2018SklearnEvaluator:\n",
    "    def __init__(self, y_test, y_pred, aspect_category_names): \n",
    "        aspect_cate_test, aspect_cate_pred = [], []\n",
    "        aspect_cate_polar_test, aspect_cate_polar_pred = [], []\n",
    "\n",
    "        for row_test, row_pred in zip(y_test, y_pred):\n",
    "            for index, (col_test, col_pred) in enumerate(zip(row_test, row_pred)):\n",
    "                aspect_cate_test.append(aspect_category_names[index] if col_test != 0 else 'None#None')\n",
    "                aspect_cate_pred.append(aspect_category_names[index] if col_pred != 0 else 'None#None')\n",
    "                aspect_cate_polar_test.append(aspect_category_names[index] + f',{PolarityMapping.INDEX_TO_POLARITY[col_test]}')\n",
    "                aspect_cate_polar_pred.append(aspect_category_names[index] + f',{PolarityMapping.INDEX_TO_POLARITY[col_pred]}')\n",
    "\n",
    "        self.aspect_cate_polar_report = classification_report(aspect_cate_polar_test, aspect_cate_polar_pred, output_dict=True, zero_division=1.0)\n",
    "        self.aspect_cate_report = classification_report(aspect_cate_test, aspect_cate_pred, output_dict=True, zero_division=1.0)\n",
    "        self.polarity_report = classification_report(y_test.flatten(), y_pred.flatten(), target_names=PolarityMapping.POLARITY_TO_INDEX, output_dict=True)\n",
    "        self._merge_all_reports()\n",
    "        self._build_macro_avg_df()\n",
    "        \n",
    "    \n",
    "    def report(self, report_type='all'):\n",
    "        if report_type.lower() == 'all': self._display_all_reports()\n",
    "        elif report_type.lower() == 'aspect#category,polarity': return pd.DataFrame(self.aspect_cate_polar_report).T\n",
    "        elif report_type.lower() == 'aspect#category': return pd.DataFrame(self.aspect_cate_report).T\n",
    "        elif report_type.lower() == 'polarity': return pd.DataFrame(self.polarity_report).T\n",
    "        elif report_type.lower() == 'macro_avg': return self.macro_avg_df()\n",
    "        else: raise ValueError('report_type must be in [\"all\", \"aspect#category,polarity\", \"aspect#category\", \"polarity\", \"macro_avg\"]')\n",
    "        \n",
    "        \n",
    "    def _merge_all_reports(self):\n",
    "        self.merged_report = {}\n",
    "        for key, metrics in self.aspect_cate_polar_report.items():\n",
    "            # Check if key in the form of 'aspect#category,polarity' (Check if it's not 'accuracy' or 'macro avg' or 'weighted avg')\n",
    "            if key in ['accuracy', 'macro avg', 'weighted avg']:\n",
    "                self.merged_report[key] = {\n",
    "                    'aspect#category': self.aspect_cate_report[key],\n",
    "                    'aspect#category,polarity': metrics\n",
    "                }\n",
    "            else:\n",
    "                aspect_cate, polarity = key.split(',')\n",
    "                if aspect_cate not in self.merged_report:\n",
    "                    self.merged_report[aspect_cate] = {'aspect#category': self.aspect_cate_report[aspect_cate]}\n",
    "                self.merged_report[aspect_cate][polarity] = metrics\n",
    "                \n",
    "                \n",
    "    def _build_macro_avg_df(self):\n",
    "        self.macro_avg_df = pd.DataFrame([{\n",
    "            'accuracy': f\"{report['accuracy']:.3f}\", \n",
    "            # **{metric: report['macro avg'][metric] for metric in report['macro avg'] if metric != 'accuracy'}\n",
    "            'precision': f\"{report['macro avg']['precision']:.3f}\",\n",
    "            'recall': f\"{report['macro avg']['recall']:.3f}\",\n",
    "            'f1-score': f\"{report['macro avg']['f1-score']:.3f}\",\n",
    "            'support': report['macro avg']['support']\n",
    "        } for report in [self.aspect_cate_polar_report, self.aspect_cate_report, self.polarity_report]])\n",
    "        self.macro_avg_df.index = ['Aspect#Category,Polarity', 'Aspect#Category', 'Polarity']\n",
    "    \n",
    "        \n",
    "    def _display_all_reports(self):\n",
    "        metric_names = list(self.merged_report.values())[0]['aspect#category']\n",
    "        html_str = f\"\"\"\n",
    "            <tr>\n",
    "                <th style=\"font-weight: bold; text-align: center;\" rowspan=\"2\">ACSA Report (w/o \"None\" polarity)</th>\n",
    "                <th style=\"font-weight: bold; text-align: center;\" colspan=\"{len(metric_names)}\">Aspect#Category</th>\n",
    "                <th style=\"font-weight: bold; text-align: center;\" colspan=\"{len(metric_names)}\">Aspect#Category,Polarity</th>\n",
    "            </tr>\n",
    "            <tr>\n",
    "                {''.join([f'<th>{metric_name}</th>' for metric_name in metric_names] * 2)}\n",
    "            </tr>\n",
    "        \"\"\"\n",
    "\n",
    "        for key, merged_metrics in tqdm(self.merged_report.items()):\n",
    "            if key in ['accuracy', 'macro avg', 'weighted avg']: continue\n",
    "            polarities = merged_metrics.keys() - {'aspect#category', 'None'}\n",
    "            aspect_cate_html = ''.join(\n",
    "                f'<td rowspan=\"{len(polarities)}\">{value if name == \"support\" else f\"{value:.3f}\"}</td>'\n",
    "                for name, value in self.merged_report[key]['aspect#category'].items()\n",
    "            )\n",
    "            for index, polarity in enumerate(polarities):\n",
    "                aspect_cate_polar_html = ''.join(\n",
    "                    f'<td>{value if name == \"support\" else f\"{value:.3f}\"}</td>'\n",
    "                    for name, value in self.merged_report[key][polarity].items()\n",
    "                )\n",
    "                html_str += f\"\"\"\n",
    "                    <tr>\n",
    "                        <td>{key},{polarity}</td>\n",
    "                        {aspect_cate_html if index == 0 else ''}\n",
    "                        {aspect_cate_polar_html}\n",
    "                    </tr>\n",
    "                \"\"\"\n",
    "\n",
    "        display_html(f'''\n",
    "            <div style=\"display: flex; align-items: flex-start; flex-wrap: nowrap\">\n",
    "                <table style=\"margin-right: 10px\">{html_str}</table> \n",
    "                <div style=\"display: flex; align-items: center; flex-direction: column\">\n",
    "                    <b>Polarity Report</b><br>\n",
    "                    {pd.DataFrame(self.polarity_report).T.to_html()}<br>\n",
    "                    <b>Macro Avg Report</b><br>\n",
    "                    {self.macro_avg_df.to_html()}\n",
    "                </div>\n",
    "            </div>\n",
    "        ''', raw=True)      "
   ]
  },
  {
   "cell_type": "code",
   "execution_count": 13,
   "metadata": {
    "execution": {
     "iopub.execute_input": "2025-05-23T07:29:25.447854Z",
     "iopub.status.busy": "2025-05-23T07:29:25.447639Z",
     "iopub.status.idle": "2025-05-23T07:29:25.462787Z",
     "shell.execute_reply": "2025-05-23T07:29:25.462244Z",
     "shell.execute_reply.started": "2025-05-23T07:29:25.447838Z"
    },
    "trusted": true
   },
   "outputs": [],
   "source": [
    "ASPECT_CATEGORY_NAMES = ['AMBIENCE#GENERAL', 'DRINKS#PRICES', 'DRINKS#QUALITY', 'DRINKS#STYLE&OPTIONS', 'FOOD#PRICES', 'FOOD#QUALITY', 'FOOD#STYLE&OPTIONS', 'LOCATION#GENERAL', 'RESTAURANT#GENERAL', 'RESTAURANT#MISCELLANEOUS', 'RESTAURANT#PRICES', 'SERVICE#GENERAL']"
   ]
  },
  {
   "cell_type": "code",
   "execution_count": 14,
   "metadata": {
    "execution": {
     "iopub.execute_input": "2025-05-23T07:29:25.465224Z",
     "iopub.status.busy": "2025-05-23T07:29:25.464948Z",
     "iopub.status.idle": "2025-05-23T07:29:25.741209Z",
     "shell.execute_reply": "2025-05-23T07:29:25.740564Z",
     "shell.execute_reply.started": "2025-05-23T07:29:25.465208Z"
    },
    "trusted": true
   },
   "outputs": [
    {
     "name": "stderr",
     "output_type": "stream",
     "text": [
      "100%|██████████| 15/15 [00:00<00:00, 62601.55it/s]\n"
     ]
    },
    {
     "data": {
      "text/html": [
       "\n",
       "            <div style=\"display: flex; align-items: flex-start; flex-wrap: nowrap\">\n",
       "                <table style=\"margin-right: 10px\">\n",
       "            <tr>\n",
       "                <th style=\"font-weight: bold; text-align: center;\" rowspan=\"2\">ACSA Report (w/o \"None\" polarity)</th>\n",
       "                <th style=\"font-weight: bold; text-align: center;\" colspan=\"4\">Aspect#Category</th>\n",
       "                <th style=\"font-weight: bold; text-align: center;\" colspan=\"4\">Aspect#Category,Polarity</th>\n",
       "            </tr>\n",
       "            <tr>\n",
       "                <th>precision</th><th>recall</th><th>f1-score</th><th>support</th><th>precision</th><th>recall</th><th>f1-score</th><th>support</th>\n",
       "            </tr>\n",
       "        \n",
       "                    <tr>\n",
       "                        <td>AMBIENCE#GENERAL,negative</td>\n",
       "                        <td rowspan=\"3\">0.951</td><td rowspan=\"3\">0.757</td><td rowspan=\"3\">0.843</td><td rowspan=\"3\">255</td>\n",
       "                        <td>0.722</td><td>0.500</td><td>0.591</td><td>26</td>\n",
       "                    </tr>\n",
       "                \n",
       "                    <tr>\n",
       "                        <td>AMBIENCE#GENERAL,positive</td>\n",
       "                        \n",
       "                        <td>0.845</td><td>0.812</td><td>0.828</td><td>181</td>\n",
       "                    </tr>\n",
       "                \n",
       "                    <tr>\n",
       "                        <td>AMBIENCE#GENERAL,neutral</td>\n",
       "                        \n",
       "                        <td>0.727</td><td>0.167</td><td>0.271</td><td>48</td>\n",
       "                    </tr>\n",
       "                \n",
       "                    <tr>\n",
       "                        <td>DRINKS#PRICES,negative</td>\n",
       "                        <td rowspan=\"3\">0.862</td><td rowspan=\"3\">0.329</td><td rowspan=\"3\">0.476</td><td rowspan=\"3\">76</td>\n",
       "                        <td>0.000</td><td>0.000</td><td>0.000</td><td>3</td>\n",
       "                    </tr>\n",
       "                \n",
       "                    <tr>\n",
       "                        <td>DRINKS#PRICES,positive</td>\n",
       "                        \n",
       "                        <td>0.538</td><td>0.250</td><td>0.341</td><td>28</td>\n",
       "                    </tr>\n",
       "                \n",
       "                    <tr>\n",
       "                        <td>DRINKS#PRICES,neutral</td>\n",
       "                        \n",
       "                        <td>0.833</td><td>0.222</td><td>0.351</td><td>45</td>\n",
       "                    </tr>\n",
       "                \n",
       "                    <tr>\n",
       "                        <td>DRINKS#QUALITY,negative</td>\n",
       "                        <td rowspan=\"3\">0.912</td><td rowspan=\"3\">0.437</td><td rowspan=\"3\">0.590</td><td rowspan=\"3\">71</td>\n",
       "                        <td>0.333</td><td>0.167</td><td>0.222</td><td>6</td>\n",
       "                    </tr>\n",
       "                \n",
       "                    <tr>\n",
       "                        <td>DRINKS#QUALITY,positive</td>\n",
       "                        \n",
       "                        <td>0.862</td><td>0.463</td><td>0.602</td><td>54</td>\n",
       "                    </tr>\n",
       "                \n",
       "                    <tr>\n",
       "                        <td>DRINKS#QUALITY,neutral</td>\n",
       "                        \n",
       "                        <td>0.500</td><td>0.091</td><td>0.154</td><td>11</td>\n",
       "                    </tr>\n",
       "                \n",
       "                    <tr>\n",
       "                        <td>DRINKS#STYLE&OPTIONS,negative</td>\n",
       "                        <td rowspan=\"3\">0.574</td><td rowspan=\"3\">0.587</td><td rowspan=\"3\">0.581</td><td rowspan=\"3\">46</td>\n",
       "                        <td>0.200</td><td>1.000</td><td>0.333</td><td>1</td>\n",
       "                    </tr>\n",
       "                \n",
       "                    <tr>\n",
       "                        <td>DRINKS#STYLE&OPTIONS,positive</td>\n",
       "                        \n",
       "                        <td>0.590</td><td>0.561</td><td>0.575</td><td>41</td>\n",
       "                    </tr>\n",
       "                \n",
       "                    <tr>\n",
       "                        <td>DRINKS#STYLE&OPTIONS,neutral</td>\n",
       "                        \n",
       "                        <td>0.000</td><td>0.000</td><td>0.000</td><td>4</td>\n",
       "                    </tr>\n",
       "                \n",
       "                    <tr>\n",
       "                        <td>FOOD#PRICES,negative</td>\n",
       "                        <td rowspan=\"3\">0.812</td><td rowspan=\"3\">0.937</td><td rowspan=\"3\">0.870</td><td rowspan=\"3\">331</td>\n",
       "                        <td>0.560</td><td>0.500</td><td>0.528</td><td>28</td>\n",
       "                    </tr>\n",
       "                \n",
       "                    <tr>\n",
       "                        <td>FOOD#PRICES,positive</td>\n",
       "                        \n",
       "                        <td>0.650</td><td>0.727</td><td>0.686</td><td>128</td>\n",
       "                    </tr>\n",
       "                \n",
       "                    <tr>\n",
       "                        <td>FOOD#PRICES,neutral</td>\n",
       "                        \n",
       "                        <td>0.692</td><td>0.846</td><td>0.761</td><td>175</td>\n",
       "                    </tr>\n",
       "                \n",
       "                    <tr>\n",
       "                        <td>FOOD#QUALITY,negative</td>\n",
       "                        <td rowspan=\"3\">0.948</td><td rowspan=\"3\">0.967</td><td rowspan=\"3\">0.958</td><td rowspan=\"3\">457</td>\n",
       "                        <td>0.400</td><td>0.364</td><td>0.381</td><td>11</td>\n",
       "                    </tr>\n",
       "                \n",
       "                    <tr>\n",
       "                        <td>FOOD#QUALITY,positive</td>\n",
       "                        \n",
       "                        <td>0.917</td><td>0.901</td><td>0.909</td><td>403</td>\n",
       "                    </tr>\n",
       "                \n",
       "                    <tr>\n",
       "                        <td>FOOD#QUALITY,neutral</td>\n",
       "                        \n",
       "                        <td>0.350</td><td>0.488</td><td>0.408</td><td>43</td>\n",
       "                    </tr>\n",
       "                \n",
       "                    <tr>\n",
       "                        <td>FOOD#STYLE&OPTIONS,negative</td>\n",
       "                        <td rowspan=\"3\">0.912</td><td rowspan=\"3\">0.903</td><td rowspan=\"3\">0.908</td><td rowspan=\"3\">403</td>\n",
       "                        <td>0.714</td><td>0.312</td><td>0.435</td><td>16</td>\n",
       "                    </tr>\n",
       "                \n",
       "                    <tr>\n",
       "                        <td>FOOD#STYLE&OPTIONS,positive</td>\n",
       "                        \n",
       "                        <td>0.805</td><td>0.829</td><td>0.817</td><td>334</td>\n",
       "                    </tr>\n",
       "                \n",
       "                    <tr>\n",
       "                        <td>FOOD#STYLE&OPTIONS,neutral</td>\n",
       "                        \n",
       "                        <td>0.354</td><td>0.321</td><td>0.337</td><td>53</td>\n",
       "                    </tr>\n",
       "                \n",
       "                    <tr>\n",
       "                        <td>LOCATION#GENERAL,negative</td>\n",
       "                        <td rowspan=\"3\">0.871</td><td rowspan=\"3\">0.676</td><td rowspan=\"3\">0.761</td><td rowspan=\"3\">179</td>\n",
       "                        <td>0.533</td><td>0.500</td><td>0.516</td><td>16</td>\n",
       "                    </tr>\n",
       "                \n",
       "                    <tr>\n",
       "                        <td>LOCATION#GENERAL,positive</td>\n",
       "                        \n",
       "                        <td>0.490</td><td>0.391</td><td>0.435</td><td>64</td>\n",
       "                    </tr>\n",
       "                \n",
       "                    <tr>\n",
       "                        <td>LOCATION#GENERAL,neutral</td>\n",
       "                        \n",
       "                        <td>0.685</td><td>0.505</td><td>0.581</td><td>99</td>\n",
       "                    </tr>\n",
       "                \n",
       "                    <tr>\n",
       "                        <td>RESTAURANT#GENERAL,negative</td>\n",
       "                        <td rowspan=\"3\">0.638</td><td rowspan=\"3\">0.610</td><td rowspan=\"3\">0.624</td><td rowspan=\"3\">223</td>\n",
       "                        <td>0.667</td><td>0.154</td><td>0.250</td><td>13</td>\n",
       "                    </tr>\n",
       "                \n",
       "                    <tr>\n",
       "                        <td>RESTAURANT#GENERAL,positive</td>\n",
       "                        \n",
       "                        <td>0.623</td><td>0.629</td><td>0.626</td><td>205</td>\n",
       "                    </tr>\n",
       "                \n",
       "                    <tr>\n",
       "                        <td>RESTAURANT#GENERAL,neutral</td>\n",
       "                        \n",
       "                        <td>0.000</td><td>0.000</td><td>0.000</td><td>5</td>\n",
       "                    </tr>\n",
       "                \n",
       "                    <tr>\n",
       "                        <td>RESTAURANT#MISCELLANEOUS,negative</td>\n",
       "                        <td rowspan=\"3\">1.000</td><td rowspan=\"3\">0.031</td><td rowspan=\"3\">0.060</td><td rowspan=\"3\">130</td>\n",
       "                        <td>0.500</td><td>0.111</td><td>0.182</td><td>9</td>\n",
       "                    </tr>\n",
       "                \n",
       "                    <tr>\n",
       "                        <td>RESTAURANT#MISCELLANEOUS,positive</td>\n",
       "                        \n",
       "                        <td>1.000</td><td>0.034</td><td>0.066</td><td>59</td>\n",
       "                    </tr>\n",
       "                \n",
       "                    <tr>\n",
       "                        <td>RESTAURANT#MISCELLANEOUS,neutral</td>\n",
       "                        \n",
       "                        <td>1.000</td><td>0.000</td><td>0.000</td><td>62</td>\n",
       "                    </tr>\n",
       "                \n",
       "                    <tr>\n",
       "                        <td>RESTAURANT#PRICES,negative</td>\n",
       "                        <td rowspan=\"3\">0.600</td><td rowspan=\"3\">0.082</td><td rowspan=\"3\">0.145</td><td rowspan=\"3\">73</td>\n",
       "                        <td>1.000</td><td>0.000</td><td>0.000</td><td>5</td>\n",
       "                    </tr>\n",
       "                \n",
       "                    <tr>\n",
       "                        <td>RESTAURANT#PRICES,positive</td>\n",
       "                        \n",
       "                        <td>0.500</td><td>0.114</td><td>0.185</td><td>44</td>\n",
       "                    </tr>\n",
       "                \n",
       "                    <tr>\n",
       "                        <td>RESTAURANT#PRICES,neutral</td>\n",
       "                        \n",
       "                        <td>1.000</td><td>0.000</td><td>0.000</td><td>24</td>\n",
       "                    </tr>\n",
       "                \n",
       "                    <tr>\n",
       "                        <td>SERVICE#GENERAL,negative</td>\n",
       "                        <td rowspan=\"3\">0.863</td><td rowspan=\"3\">0.754</td><td rowspan=\"3\">0.805</td><td rowspan=\"3\">175</td>\n",
       "                        <td>0.640</td><td>0.640</td><td>0.640</td><td>25</td>\n",
       "                    </tr>\n",
       "                \n",
       "                    <tr>\n",
       "                        <td>SERVICE#GENERAL,positive</td>\n",
       "                        \n",
       "                        <td>0.833</td><td>0.742</td><td>0.785</td><td>128</td>\n",
       "                    </tr>\n",
       "                \n",
       "                    <tr>\n",
       "                        <td>SERVICE#GENERAL,neutral</td>\n",
       "                        \n",
       "                        <td>0.357</td><td>0.227</td><td>0.278</td><td>22</td>\n",
       "                    </tr>\n",
       "                </table> \n",
       "                <div style=\"display: flex; align-items: center; flex-direction: column\">\n",
       "                    <b>Polarity Report</b><br>\n",
       "                    <table border=\"1\" class=\"dataframe\">\n",
       "  <thead>\n",
       "    <tr style=\"text-align: right;\">\n",
       "      <th></th>\n",
       "      <th>precision</th>\n",
       "      <th>recall</th>\n",
       "      <th>f1-score</th>\n",
       "      <th>support</th>\n",
       "    </tr>\n",
       "  </thead>\n",
       "  <tbody>\n",
       "    <tr>\n",
       "      <th>None</th>\n",
       "      <td>0.839837</td>\n",
       "      <td>0.919576</td>\n",
       "      <td>0.877899</td>\n",
       "      <td>3581.0000</td>\n",
       "    </tr>\n",
       "    <tr>\n",
       "      <th>positive</th>\n",
       "      <td>0.782523</td>\n",
       "      <td>0.713601</td>\n",
       "      <td>0.746474</td>\n",
       "      <td>1669.0000</td>\n",
       "    </tr>\n",
       "    <tr>\n",
       "      <th>negative</th>\n",
       "      <td>0.555556</td>\n",
       "      <td>0.408805</td>\n",
       "      <td>0.471014</td>\n",
       "      <td>159.0000</td>\n",
       "    </tr>\n",
       "    <tr>\n",
       "      <th>neutral</th>\n",
       "      <td>0.590909</td>\n",
       "      <td>0.439932</td>\n",
       "      <td>0.504365</td>\n",
       "      <td>591.0000</td>\n",
       "    </tr>\n",
       "    <tr>\n",
       "      <th>accuracy</th>\n",
       "      <td>0.801500</td>\n",
       "      <td>0.801500</td>\n",
       "      <td>0.801500</td>\n",
       "      <td>0.8015</td>\n",
       "    </tr>\n",
       "    <tr>\n",
       "      <th>macro avg</th>\n",
       "      <td>0.692206</td>\n",
       "      <td>0.620478</td>\n",
       "      <td>0.649938</td>\n",
       "      <td>6000.0000</td>\n",
       "    </tr>\n",
       "    <tr>\n",
       "      <th>weighted avg</th>\n",
       "      <td>0.791841</td>\n",
       "      <td>0.801500</td>\n",
       "      <td>0.793766</td>\n",
       "      <td>6000.0000</td>\n",
       "    </tr>\n",
       "  </tbody>\n",
       "</table><br>\n",
       "                    <b>Macro Avg Report</b><br>\n",
       "                    <table border=\"1\" class=\"dataframe\">\n",
       "  <thead>\n",
       "    <tr style=\"text-align: right;\">\n",
       "      <th></th>\n",
       "      <th>accuracy</th>\n",
       "      <th>precision</th>\n",
       "      <th>recall</th>\n",
       "      <th>f1-score</th>\n",
       "      <th>support</th>\n",
       "    </tr>\n",
       "  </thead>\n",
       "  <tbody>\n",
       "    <tr>\n",
       "      <th>Aspect#Category,Polarity</th>\n",
       "      <td>0.801</td>\n",
       "      <td>0.646</td>\n",
       "      <td>0.494</td>\n",
       "      <td>0.497</td>\n",
       "      <td>6000</td>\n",
       "    </tr>\n",
       "    <tr>\n",
       "      <th>Aspect#Category</th>\n",
       "      <td>0.847</td>\n",
       "      <td>0.829</td>\n",
       "      <td>0.615</td>\n",
       "      <td>0.654</td>\n",
       "      <td>6000</td>\n",
       "    </tr>\n",
       "    <tr>\n",
       "      <th>Polarity</th>\n",
       "      <td>0.801</td>\n",
       "      <td>0.692</td>\n",
       "      <td>0.620</td>\n",
       "      <td>0.650</td>\n",
       "      <td>6000</td>\n",
       "    </tr>\n",
       "  </tbody>\n",
       "</table>\n",
       "                </div>\n",
       "            </div>\n",
       "        "
      ]
     },
     "metadata": {},
     "output_type": "display_data"
    }
   ],
   "source": [
    "sk_eval = VLSP2018SklearnEvaluator(y_test, y_pred, ASPECT_CATEGORY_NAMES)\n",
    "# sk_eval.report(report_type='Aspect#Category,Polarity').round(3)\n",
    "# sk_eval.report(report_type='Aspect#Category').round(3)\n",
    "# sk_eval.report(report_type='Polarity').round(3)\n",
    "# sk_eval.report(report_type='macro_avg').round(3)\n",
    "sk_eval.report(report_type='all')"
   ]
  },
  {
   "cell_type": "markdown",
   "metadata": {},
   "source": [
    "# Evaluation VLSP\n"
   ]
  },
  {
   "cell_type": "code",
   "execution_count": 15,
   "metadata": {
    "execution": {
     "iopub.execute_input": "2025-05-23T07:29:25.742048Z",
     "iopub.status.busy": "2025-05-23T07:29:25.741799Z",
     "iopub.status.idle": "2025-05-23T07:29:25.746868Z",
     "shell.execute_reply": "2025-05-23T07:29:25.746139Z",
     "shell.execute_reply.started": "2025-05-23T07:29:25.742003Z"
    },
    "trusted": true
   },
   "outputs": [],
   "source": [
    "def vlsp_save_as(save_path, raw_texts, encoded_review_labels, aspect_category_names):\n",
    "        with open(save_path, 'w', encoding='utf-8') as file:\n",
    "            for index, encoded_label in tqdm(enumerate(encoded_review_labels)):\n",
    "                polarities = map(lambda x: PolarityMapping.INDEX_TO_POLARITY[x], encoded_label)\n",
    "                acsa = ', '.join(\n",
    "                    f'{{{aspect_category}, {polarity}}}' \n",
    "                    for aspect_category, polarity in zip(aspect_category_names, polarities) if polarity\n",
    "                )\n",
    "                file.write(f\"#{index + 1}\\n{raw_texts[index]}\\n{acsa}\\n\\n\")"
   ]
  },
  {
   "cell_type": "code",
   "execution_count": 16,
   "metadata": {
    "execution": {
     "iopub.execute_input": "2025-05-23T07:29:25.747845Z",
     "iopub.status.busy": "2025-05-23T07:29:25.747535Z",
     "iopub.status.idle": "2025-05-23T07:29:25.760924Z",
     "shell.execute_reply": "2025-05-23T07:29:25.760272Z",
     "shell.execute_reply.started": "2025-05-23T07:29:25.747813Z"
    },
    "trusted": true
   },
   "outputs": [],
   "source": [
    "MODEL_NAME = \"restaurant-3\""
   ]
  },
  {
   "cell_type": "code",
   "execution_count": 17,
   "metadata": {
    "execution": {
     "iopub.execute_input": "2025-05-23T07:29:25.761764Z",
     "iopub.status.busy": "2025-05-23T07:29:25.761524Z",
     "iopub.status.idle": "2025-05-23T07:29:25.813680Z",
     "shell.execute_reply": "2025-05-23T07:29:25.813144Z",
     "shell.execute_reply.started": "2025-05-23T07:29:25.761739Z"
    },
    "trusted": true
   },
   "outputs": [],
   "source": [
    "test_reviews = []\n",
    "\n",
    "TEST_PATH = \"/kaggle/input/restaurant-test-text/3-VLSP2018-SA-Restaurant-test.txt\"\n",
    "\n",
    "with open(TEST_PATH, \"r\", encoding = 'utf-8') as file:\n",
    "    lines = file.readlines()\n",
    "    for i in range(1,len(lines),4):\n",
    "        test_reviews.append(str(lines[i]).strip())"
   ]
  },
  {
   "cell_type": "code",
   "execution_count": 18,
   "metadata": {
    "execution": {
     "iopub.execute_input": "2025-05-23T07:29:25.814473Z",
     "iopub.status.busy": "2025-05-23T07:29:25.814275Z",
     "iopub.status.idle": "2025-05-23T07:29:25.825474Z",
     "shell.execute_reply": "2025-05-23T07:29:25.824920Z",
     "shell.execute_reply.started": "2025-05-23T07:29:25.814457Z"
    },
    "trusted": true
   },
   "outputs": [
    {
     "name": "stderr",
     "output_type": "stream",
     "text": [
      "500it [00:00, 93924.76it/s]\n"
     ]
    }
   ],
   "source": [
    "vlsp_save_as(f'/kaggle/working/{MODEL_NAME}.txt', test_reviews, y_pred, ASPECT_CATEGORY_NAMES)"
   ]
  },
  {
   "cell_type": "code",
   "execution_count": 19,
   "metadata": {
    "execution": {
     "iopub.execute_input": "2025-05-23T07:29:25.826350Z",
     "iopub.status.busy": "2025-05-23T07:29:25.826104Z",
     "iopub.status.idle": "2025-05-23T07:29:27.442694Z",
     "shell.execute_reply": "2025-05-23T07:29:27.441707Z",
     "shell.execute_reply.started": "2025-05-23T07:29:25.826326Z"
    },
    "trusted": true
   },
   "outputs": [
    {
     "name": "stdout",
     "output_type": "stream",
     "text": [
      "Row mismatch:﻿#1 <-> #1\n",
      "Evaluation Result >> File:/kaggle/working/restaurant-3.txt<> [/kaggle/input/restaurant-test-text/3-VLSP2018-SA-Restaurant-test.txt]\n",
      "                    Gold count\t223\t71\t76\t46\t179\t130\t403\t331\t457\t255\t73\t175\n",
      "                  ANSWER count\t213\t34\t29\t47\t139\t4\t399\t382\t466\t203\t10\t153\n",
      "\n",
      "        Correct ANSWER: aspect\t135\t30\t24\t26\t121\t4\t364\t310\t442\t193\t6\t132\n",
      "             Precision: aspect\t0.6338\t0.8824\t0.8276\t0.5532\t0.8705\t1.0000\t0.9123\t0.8115\t0.9485\t0.9507\t0.6000\t0.8627\n",
      "                Recall: aspect\t0.6054\t0.4225\t0.3158\t0.5652\t0.6760\t0.0308\t0.9032\t0.9366\t0.9672\t0.7569\t0.0822\t0.7543\n",
      "              F1 score: aspect\t0.6193\t0.5714\t0.4571\t0.5591\t0.7610\t0.0597\t0.9077\t0.8696\t0.9577\t0.8428\t0.1446\t0.8049\n",
      "\n",
      "  Over All ANSWER: aspect:----\t0.8595\t0.7387\t0.7946\n",
      "\n",
      "  Correct ANSWER: aspect,value\t130\t26\t16\t24\t83\t3\t299\t255\t388\t168\t5\t116\n",
      "      Precision: aspect, value\t0.6103\t0.7647\t0.5517\t0.5106\t0.5971\t0.7500\t0.7494\t0.6675\t0.8326\t0.8276\t0.5000\t0.7582\n",
      "         Recall: aspect, value\t0.5830\t0.3662\t0.2105\t0.5217\t0.4637\t0.0231\t0.7419\t0.7704\t0.8490\t0.6588\t0.0685\t0.6629\n",
      "       F1 score: aspect, value\t0.5963\t0.4952\t0.3048\t0.5161\t0.5220\t0.0448\t0.7456\t0.7153\t0.8407\t0.7336\t0.1205\t0.7073\n",
      "\n",
      "Over All ANSWER: aspect, value:----\t0.7278\t0.6255\t0.6727\n",
      "\n",
      "\n",
      "asp#1: RESTAURANT#GENERAL\n",
      "asp#2: DRINKS#QUALITY\n",
      "asp#3: DRINKS#PRICES\n",
      "asp#4: DRINKS#STYLE&OPTIONS\n",
      "asp#5: LOCATION#GENERAL\n",
      "asp#6: RESTAURANT#MISCELLANEOUS\n",
      "asp#7: FOOD#STYLE&OPTIONS\n",
      "asp#8: FOOD#PRICES\n",
      "asp#9: FOOD#QUALITY\n",
      "asp#10: AMBIENCE#GENERAL\n",
      "asp#11: RESTAURANT#PRICES\n",
      "asp#12: SERVICE#GENERAL\n"
     ]
    }
   ],
   "source": [
    "!java /kaggle/input/saevaluate/SAEvaluate.java /kaggle/input/restaurant-test-text/3-VLSP2018-SA-Restaurant-test.txt /kaggle/working/{MODEL_NAME}.txt"
   ]
  },
  {
   "cell_type": "code",
   "execution_count": 20,
   "metadata": {
    "execution": {
     "iopub.execute_input": "2025-05-23T07:31:10.349089Z",
     "iopub.status.busy": "2025-05-23T07:31:10.348170Z",
     "iopub.status.idle": "2025-05-23T07:31:12.330185Z",
     "shell.execute_reply": "2025-05-23T07:31:12.329533Z",
     "shell.execute_reply.started": "2025-05-23T07:31:10.349053Z"
    },
    "trusted": true
   },
   "outputs": [
    {
     "data": {
      "text/plain": [
       "('/kaggle/working/savedmodel/tokenizer_config.json',\n",
       " '/kaggle/working/savedmodel/special_tokens_map.json',\n",
       " '/kaggle/working/savedmodel/spiece.model',\n",
       " '/kaggle/working/savedmodel/added_tokens.json')"
      ]
     },
     "execution_count": 20,
     "metadata": {},
     "output_type": "execute_result"
    }
   ],
   "source": [
    "output = \"/kaggle/working/savedmodel\"\n",
    "model.save_pretrained(output)\n",
    "tokenizer.save_pretrained(output)"
   ]
  }
 ],
 "metadata": {
  "kaggle": {
   "accelerator": "gpu",
   "dataSources": [
    {
     "datasetId": 7231923,
     "sourceId": 11530123,
     "sourceType": "datasetVersion"
    },
    {
     "datasetId": 7363145,
     "sourceId": 11729715,
     "sourceType": "datasetVersion"
    },
    {
     "datasetId": 7363175,
     "sourceId": 11729763,
     "sourceType": "datasetVersion"
    },
    {
     "datasetId": 7492968,
     "sourceId": 11918806,
     "sourceType": "datasetVersion"
    }
   ],
   "dockerImageVersionId": 31011,
   "isGpuEnabled": true,
   "isInternetEnabled": true,
   "language": "python",
   "sourceType": "notebook"
  },
  "kernelspec": {
   "display_name": "Python 3",
   "language": "python",
   "name": "python3"
  },
  "language_info": {
   "codemirror_mode": {
    "name": "ipython",
    "version": 3
   },
   "file_extension": ".py",
   "mimetype": "text/x-python",
   "name": "python",
   "nbconvert_exporter": "python",
   "pygments_lexer": "ipython3",
   "version": "3.11.11"
  }
 },
 "nbformat": 4,
 "nbformat_minor": 4
}
