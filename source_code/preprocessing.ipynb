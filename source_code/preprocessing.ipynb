{
 "cells": [
  {
   "cell_type": "code",
   "execution_count": 10,
   "id": "8cab4cd6",
   "metadata": {},
   "outputs": [],
   "source": [
    "# Chuyen cac Aspect Category sang tieng viet\n",
    "AC_to_VNESEtxt = {\n",
    "    \"AMBIENCE#GENERAL\": \"không gian\",\n",
    "    \"DRINKS#PRICES\": \"giá tiền đồ uống\",\n",
    "    \"DRINKS#QUALITY\": \"chất lượng đồ uống\",\n",
    "    \"DRINKS#STYLE&OPTIONS\": \"lựa chọn đồ uống\",\n",
    "    \"FOOD#PRICES\": \"giá tiền món ăn\",\n",
    "    \"FOOD#QUALITY\": \"chất lượng đồ ăn\",\n",
    "    \"FOOD#STYLE&OPTIONS\": \"lựa chọn đồ ăn\",\n",
    "    \"LOCATION#GENERAL\": \"địa chỉ\",\n",
    "    \"RESTAURANT#GENERAL\": \"nhà hàng nói chung\",\n",
    "    \"RESTAURANT#MISCELLANEOUS\": \"vấn đề khác\",\n",
    "    \"RESTAURANT#PRICES\": \"giá cả nhà hàng\",\n",
    "    \"SERVICE#GENERAL\": \"phục vụ\"\n",
    "}\n",
    "\n",
    "# Chuyen Polarity sang tieng viet\n",
    "Polarity_to_VNESEtxt = {\n",
    "    \"positive\": \"tốt\",\n",
    "    \"neutral\": \"tạm\",\n",
    "    \"negative\": \"tệ\"\n",
    "}"
   ]
  },
  {
   "cell_type": "code",
   "execution_count": 11,
   "id": "4b398bf1",
   "metadata": {},
   "outputs": [
    {
     "name": "stdout",
     "output_type": "stream",
     "text": [
      "Size of train_df:  (2961, 4)\n",
      "Size of val_df:  (1290, 4)\n",
      "Size of test_df:  (500, 4)\n"
     ]
    }
   ],
   "source": [
    "import pandas as pd\n",
    "\n",
    "# Read CSV file into a DataFrame\n",
    "train_df = pd.read_csv('cleaned_train_df.csv')\n",
    "val_df = pd.read_csv('cleaned_val_df.csv')\n",
    "test_df = pd.read_csv('cleaned_test_df.csv')\n",
    "\n",
    "print(\"Size of train_df: \", train_df.shape)\n",
    "print(\"Size of val_df: \", val_df.shape)\n",
    "print(\"Size of test_df: \", test_df.shape)"
   ]
  },
  {
   "cell_type": "code",
   "execution_count": 12,
   "id": "0df5a4b6",
   "metadata": {},
   "outputs": [],
   "source": [
    "def aspect_sentiments_to_VNESE_text(aspect, sentiments):\n",
    "    VNESE_text = []\n",
    "    for i in range(len(aspect)):\n",
    "        VNESE_aspect = AC_to_VNESEtxt[aspect[i]]\n",
    "        VNESE_sentiment = Polarity_to_VNESEtxt[sentiments[i]]\n",
    "        VNESE_text.append(VNESE_aspect + \" \" + VNESE_sentiment)\n",
    "    return \" và \".join(VNESE_text)\n",
    "\n",
    "import ast\n",
    "\n",
    "def process_dataframe(df):\n",
    "    # Convert string representations of lists to actual lists\n",
    "    df['aspect'] = df['aspect'].apply(ast.literal_eval)\n",
    "    df['sentiments'] = df['sentiments'].apply(ast.literal_eval)\n",
    "\n",
    "    # Apply the function to create the VNESE_text column\n",
    "    df['VNESE_text_output'] = df.apply(lambda row: aspect_sentiments_to_VNESE_text(row['aspect'], row['sentiments']), axis=1)\n",
    "    return df\n",
    "\n",
    "# Process the train dataframe\n",
    "train_df = process_dataframe(train_df)\n",
    "val_df = process_dataframe(val_df)\n",
    "test_df = process_dataframe(test_df)"
   ]
  },
  {
   "cell_type": "code",
   "execution_count": 13,
   "id": "1556b421",
   "metadata": {},
   "outputs": [],
   "source": [
    "# Sort order name of the columns\n",
    "cols = ['clean_comment', 'aspect', 'sentiments', 'VNESE_text_output']\n",
    "\n",
    "# Reorder the columns in the DataFrame\n",
    "train_df = train_df[cols]\n",
    "val_df = val_df[cols]\n",
    "test_df = test_df[cols]"
   ]
  },
  {
   "cell_type": "code",
   "execution_count": 14,
   "id": "d6bd45aa",
   "metadata": {},
   "outputs": [],
   "source": [
    "train_df.to_csv('train_df_with_VNESE_output.csv', index=False)\n",
    "val_df.to_csv('val_df_with_VNESE_output.csv', index=False)\n",
    "test_df.to_csv('test_df_with_VNESE_output.csv', index=False)"
   ]
  }
 ],
 "metadata": {
  "kernelspec": {
   "display_name": "Python 3",
   "language": "python",
   "name": "python3"
  },
  "language_info": {
   "codemirror_mode": {
    "name": "ipython",
    "version": 3
   },
   "file_extension": ".py",
   "mimetype": "text/x-python",
   "name": "python",
   "nbconvert_exporter": "python",
   "pygments_lexer": "ipython3",
   "version": "3.12.0"
  }
 },
 "nbformat": 4,
 "nbformat_minor": 5
}
